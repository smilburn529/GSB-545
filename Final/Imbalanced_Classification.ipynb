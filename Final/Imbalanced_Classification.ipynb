{
 "cells": [
  {
   "cell_type": "markdown",
   "metadata": {},
   "source": [
    "# Imbalanced classification: Bank Loan Classification\n",
    "\n",
    "https://keras.io/examples/structured_data/imbalanced_classification/"
   ]
  },
  {
   "cell_type": "markdown",
   "metadata": {},
   "source": [
    "## Introduction\n",
    "\n",
    "This example looks at the Personal Bank Loan Classification dataset to demonstrate how to train a classification model on data with highly imbalanced classes.\n",
    "\n",
    "https://www.kaggle.com/code/farzadnekouei/imbalanced-personal-bank-loan-classification?select=Bank_Personal_Loan_Modelling.xlsx\n"
   ]
  },
  {
   "cell_type": "markdown",
   "metadata": {},
   "source": [
    "## First, Vectorize the Excel Data\n",
    "\n",
    "Before we can train a neural network, we need to **load, clean, and format the data** from Excel. This process includes:\n",
    "\n",
    "- Reading the Excel file using pandas.\n",
    "- Removing columns that do not help with prediction (e.g., ID or ZIP code).\n",
    "- Separating the **features** (independent variables) from the **target** (dependent variable: did the customer accept a personal loan?).\n",
    "\n",
    "The resulting `features` and `targets` will be used to train a classification model.\n"
   ]
  },
  {
   "cell_type": "code",
   "execution_count": 3,
   "metadata": {},
   "outputs": [
    {
     "name": "stdout",
     "output_type": "stream",
     "text": [
      "features.shape: (5000, 11)\n",
      "targets.shape: (5000, 1)\n",
      "features.shape: (5000, 11)\n",
      "targets.shape: (5000, 1)\n"
     ]
    }
   ],
   "source": [
    "# Import required libraries for data processing\n",
    "import pandas as pd\n",
    "import numpy as np\n",
    "\n",
    "# Load data from the Excel file, using the 'Data' sheet that contains customer information\n",
    "df = pd.read_excel(\"Bank_Personal_Loan_Modelling.xlsx\", sheet_name=\"Data\")\n",
    "\n",
    "# Drop ID (a unique identifier) and ZIP Code (non-numeric or high-cardinality categorical),\n",
    "# which are not useful for prediction and could introduce noise\n",
    "df = df.drop(columns=[\"ID\", \"ZIP Code\"])\n",
    "\n",
    "# Extract feature columns (all columns except the target) and convert to float32 for neural network input\n",
    "features = df.drop(columns=[\"Personal Loan\"]).values.astype(np.float32)\n",
    "\n",
    "# Extract the target variable (0 = no loan, 1 = accepted loan), reshape into a 2D array\n",
    "targets = df[\"Personal Loan\"].values.astype(np.uint8).reshape(-1, 1)\n",
    "\n",
    "# Print the shape of features and targets to confirm data formatting\n",
    "print(\"features.shape:\", features.shape)   # Expected: (5000, 11)\n",
    "print(\"targets.shape:\", targets.shape)     # Expected: (5000, 1)\n"
   ]
  },
  {
   "cell_type": "markdown",
   "metadata": {},
   "source": [
    "## Prepare a Validation Set\n",
    "\n",
    "Before training the model, we divide the data into two parts:\n",
    "\n",
    "- **Training set (80%)**: Used to fit the model.\n",
    "- **Validation set (20%)**: Used to evaluate model performance on unseen data.\n",
    "\n",
    "This helps us detect overfitting and tune hyperparameters without touching the test set (if we had one). We use a simple 80/20 split here.\n"
   ]
  },
  {
   "cell_type": "code",
   "execution_count": 4,
   "metadata": {},
   "outputs": [
    {
     "name": "stdout",
     "output_type": "stream",
     "text": [
      "Number of training samples: 4000\n",
      "Number of validation samples: 1000\n",
      "Number of training samples: 4000\n",
      "Number of validation samples: 1000\n"
     ]
    }
   ],
   "source": [
    "# Split the dataset into training and validation sets (80% train, 20% validation)\n",
    "num_val_samples = int(len(features) * 0.2)  # Compute how many samples will go into the validation set\n",
    "\n",
    "# Slice the first 80% for training\n",
    "train_features = features[:-num_val_samples]\n",
    "train_targets = targets[:-num_val_samples]\n",
    "\n",
    "# Slice the last 20% for validation\n",
    "val_features = features[-num_val_samples:]\n",
    "val_targets = targets[-num_val_samples:]\n",
    "\n",
    "# Print confirmation of the split\n",
    "print(\"Number of training samples:\", len(train_features))\n",
    "print(\"Number of validation samples:\", len(val_features))\n"
   ]
  },
  {
   "cell_type": "markdown",
   "metadata": {},
   "source": [
    "## Analyze Class Imbalance in the Training Targets\n",
    "\n",
    "Many business problems involve **imbalanced datasets**, where the class of interest (e.g., accepted loans) is rare. If we ignore this, the model will likely favor the majority class and perform poorly on the minority class.\n",
    "\n",
    "Here, we:\n",
    "- Count how many samples belong to each class (0 = no loan, 1 = accepted loan).\n",
    "- Print the percentage of positive class (loan accepted).\n",
    "- Compute **class weights** to give more importance to the rare class during training.\n"
   ]
  },
  {
   "cell_type": "code",
   "execution_count": 5,
   "metadata": {},
   "outputs": [
    {
     "name": "stdout",
     "output_type": "stream",
     "text": [
      "Number of positive samples in training data: 397 (9.93% of total)\n",
      "Number of positive samples in training data: 397 (9.93% of total)\n"
     ]
    }
   ],
   "source": [
    "# Count the number of examples for each class in the training set\n",
    "counts = np.bincount(train_targets[:, 0])  # counts[0] = class 0 (no loan), counts[1] = class 1 (loan)\n",
    "\n",
    "# Print the number and proportion of positive class samples\n",
    "print(\n",
    "    \"Number of positive samples in training data: {} ({:.2f}% of total)\".format(\n",
    "        counts[1], 100 * float(counts[1]) / len(train_targets)\n",
    "    )\n",
    ")\n",
    "\n",
    "# Compute class weights to handle imbalance during training\n",
    "# These weights will be passed to model.fit() to penalize errors on minority class more heavily\n",
    "weight_for_0 = 1.0 / counts[0]  # class 0 = majority\n",
    "weight_for_1 = 1.0 / counts[1]  # class 1 = minority\n"
   ]
  },
  {
   "cell_type": "markdown",
   "metadata": {},
   "source": [
    "In this dataset, only ~10% of customers accepted a loan offer. A model trained without adjusting for this imbalance might predict “no” for everyone and still get 90% accuracy — but be useless for identifying actual loan accepters."
   ]
  },
  {
   "cell_type": "markdown",
   "metadata": {},
   "source": [
    "## Normalize the Data Using Training Set Statistics\n",
    "\n",
    "Neural networks perform better when input features are **normalized** — that is, they are rescaled to have a mean of 0 and standard deviation of 1.\n",
    "\n",
    "We normalize:\n",
    "- Only using the **training data** statistics (mean and std).\n",
    "- Both training and validation sets using the same parameters to avoid data leakage.\n",
    "\n",
    "This ensures fair training and stable gradient descent.\n"
   ]
  },
  {
   "cell_type": "code",
   "execution_count": 6,
   "metadata": {},
   "outputs": [],
   "source": [
    "# Compute the mean of each feature using only the training set\n",
    "mean = np.mean(train_features, axis=0)\n",
    "\n",
    "# Subtract the mean from training and validation sets (centering)\n",
    "train_features -= mean\n",
    "val_features -= mean\n",
    "\n",
    "# Compute the standard deviation of each feature using only the training set\n",
    "std = np.std(train_features, axis=0)\n",
    "\n",
    "# Divide by standard deviation to normalize to unit variance\n",
    "train_features /= std\n",
    "val_features /= std\n"
   ]
  },
  {
   "cell_type": "markdown",
   "metadata": {},
   "source": [
    "Always compute normalization statistics (mean, std) from the training set only. If you include the validation or test set, it leads to data leakage, which gives overly optimistic results.\n",
    "\n"
   ]
  },
  {
   "cell_type": "markdown",
   "metadata": {},
   "source": [
    "## Build a Binary Classification Model\n",
    "\n",
    "Now we define our neural network using the Keras `Sequential` API.\n",
    "\n",
    "- The model has multiple **dense (fully connected) layers** with ReLU activation.\n",
    "- We use **Dropout** layers to reduce overfitting by randomly \"turning off\" neurons during training.\n",
    "- The final layer uses a **sigmoid** activation to output a probability between 0 and 1 (for binary classification).\n",
    "\n",
    "This architecture is simple, flexible, and effective for CRM, fraud detection, and other structured data tasks.\n"
   ]
  },
  {
   "cell_type": "code",
   "execution_count": 9,
   "metadata": {},
   "outputs": [
    {
     "name": "stdout",
     "output_type": "stream",
     "text": [
      "\u001b[1mModel: \"sequential_1\"\u001b[0m\n",
      "\u001b[1mModel: \"sequential_1\"\u001b[0m\n"
     ]
    },
    {
     "name": "stdout",
     "output_type": "stream",
     "text": [
      "┏━━━━━━━━━━━━━━━━━━━━━━━━━━━━━━━━━━━━━━┳━━━━━━━━━━━━━━━━━━━━━━━━━━━━━┳━━━━━━━━━━━━━━━━━┓\n",
      "┃\u001b[1m \u001b[0m\u001b[1mLayer (type)                        \u001b[0m\u001b[1m \u001b[0m┃\u001b[1m \u001b[0m\u001b[1mOutput Shape               \u001b[0m\u001b[1m \u001b[0m┃\u001b[1m \u001b[0m\u001b[1m        Param #\u001b[0m\u001b[1m \u001b[0m┃\n",
      "┡━━━━━━━━━━━━━━━━━━━━━━━━━━━━━━━━━━━━━━╇━━━━━━━━━━━━━━━━━━━━━━━━━━━━━╇━━━━━━━━━━━━━━━━━┩\n",
      "│ dense_4 (\u001b[38;5;33mDense\u001b[0m)                      │ (\u001b[38;5;45mNone\u001b[0m, \u001b[38;5;34m256\u001b[0m)                 │           \u001b[38;5;34m3,072\u001b[0m │\n",
      "├──────────────────────────────────────┼─────────────────────────────┼─────────────────┤\n",
      "│ dense_5 (\u001b[38;5;33mDense\u001b[0m)                      │ (\u001b[38;5;45mNone\u001b[0m, \u001b[38;5;34m256\u001b[0m)                 │          \u001b[38;5;34m65,792\u001b[0m │\n",
      "├──────────────────────────────────────┼─────────────────────────────┼─────────────────┤\n",
      "│ dropout_2 (\u001b[38;5;33mDropout\u001b[0m)                  │ (\u001b[38;5;45mNone\u001b[0m, \u001b[38;5;34m256\u001b[0m)                 │               \u001b[38;5;34m0\u001b[0m │\n",
      "├──────────────────────────────────────┼─────────────────────────────┼─────────────────┤\n",
      "│ dense_6 (\u001b[38;5;33mDense\u001b[0m)                      │ (\u001b[38;5;45mNone\u001b[0m, \u001b[38;5;34m256\u001b[0m)                 │          \u001b[38;5;34m65,792\u001b[0m │\n",
      "├──────────────────────────────────────┼─────────────────────────────┼─────────────────┤\n",
      "│ dropout_3 (\u001b[38;5;33mDropout\u001b[0m)                  │ (\u001b[38;5;45mNone\u001b[0m, \u001b[38;5;34m256\u001b[0m)                 │               \u001b[38;5;34m0\u001b[0m │\n",
      "├──────────────────────────────────────┼─────────────────────────────┼─────────────────┤\n",
      "│ dense_7 (\u001b[38;5;33mDense\u001b[0m)                      │ (\u001b[38;5;45mNone\u001b[0m, \u001b[38;5;34m1\u001b[0m)                   │             \u001b[38;5;34m257\u001b[0m │\n",
      "└──────────────────────────────────────┴─────────────────────────────┴─────────────────┘\n",
      "┏━━━━━━━━━━━━━━━━━━━━━━━━━━━━━━━━━━━━━━┳━━━━━━━━━━━━━━━━━━━━━━━━━━━━━┳━━━━━━━━━━━━━━━━━┓\n",
      "┃\u001b[1m \u001b[0m\u001b[1mLayer (type)                        \u001b[0m\u001b[1m \u001b[0m┃\u001b[1m \u001b[0m\u001b[1mOutput Shape               \u001b[0m\u001b[1m \u001b[0m┃\u001b[1m \u001b[0m\u001b[1m        Param #\u001b[0m\u001b[1m \u001b[0m┃\n",
      "┡━━━━━━━━━━━━━━━━━━━━━━━━━━━━━━━━━━━━━━╇━━━━━━━━━━━━━━━━━━━━━━━━━━━━━╇━━━━━━━━━━━━━━━━━┩\n",
      "│ dense_4 (\u001b[38;5;33mDense\u001b[0m)                      │ (\u001b[38;5;45mNone\u001b[0m, \u001b[38;5;34m256\u001b[0m)                 │           \u001b[38;5;34m3,072\u001b[0m │\n",
      "├──────────────────────────────────────┼─────────────────────────────┼─────────────────┤\n",
      "│ dense_5 (\u001b[38;5;33mDense\u001b[0m)                      │ (\u001b[38;5;45mNone\u001b[0m, \u001b[38;5;34m256\u001b[0m)                 │          \u001b[38;5;34m65,792\u001b[0m │\n",
      "├──────────────────────────────────────┼─────────────────────────────┼─────────────────┤\n",
      "│ dropout_2 (\u001b[38;5;33mDropout\u001b[0m)                  │ (\u001b[38;5;45mNone\u001b[0m, \u001b[38;5;34m256\u001b[0m)                 │               \u001b[38;5;34m0\u001b[0m │\n",
      "├──────────────────────────────────────┼─────────────────────────────┼─────────────────┤\n",
      "│ dense_6 (\u001b[38;5;33mDense\u001b[0m)                      │ (\u001b[38;5;45mNone\u001b[0m, \u001b[38;5;34m256\u001b[0m)                 │          \u001b[38;5;34m65,792\u001b[0m │\n",
      "├──────────────────────────────────────┼─────────────────────────────┼─────────────────┤\n",
      "│ dropout_3 (\u001b[38;5;33mDropout\u001b[0m)                  │ (\u001b[38;5;45mNone\u001b[0m, \u001b[38;5;34m256\u001b[0m)                 │               \u001b[38;5;34m0\u001b[0m │\n",
      "├──────────────────────────────────────┼─────────────────────────────┼─────────────────┤\n",
      "│ dense_7 (\u001b[38;5;33mDense\u001b[0m)                      │ (\u001b[38;5;45mNone\u001b[0m, \u001b[38;5;34m1\u001b[0m)                   │             \u001b[38;5;34m257\u001b[0m │\n",
      "└──────────────────────────────────────┴─────────────────────────────┴─────────────────┘\n"
     ]
    },
    {
     "name": "stdout",
     "output_type": "stream",
     "text": [
      "\u001b[1m Total params: \u001b[0m\u001b[38;5;34m134,913\u001b[0m (527.00 KB)\n",
      "\u001b[1m Total params: \u001b[0m\u001b[38;5;34m134,913\u001b[0m (527.00 KB)\n"
     ]
    },
    {
     "name": "stdout",
     "output_type": "stream",
     "text": [
      "\u001b[1m Trainable params: \u001b[0m\u001b[38;5;34m134,913\u001b[0m (527.00 KB)\n",
      "\u001b[1m Trainable params: \u001b[0m\u001b[38;5;34m134,913\u001b[0m (527.00 KB)\n"
     ]
    },
    {
     "name": "stdout",
     "output_type": "stream",
     "text": [
      "\u001b[1m Non-trainable params: \u001b[0m\u001b[38;5;34m0\u001b[0m (0.00 B)\n",
      "\u001b[1m Non-trainable params: \u001b[0m\u001b[38;5;34m0\u001b[0m (0.00 B)\n"
     ]
    }
   ],
   "source": [
    "import keras\n",
    "\n",
    "# Build a sequential model for binary classification\n",
    "model = keras.Sequential(\n",
    "    [\n",
    "        # Input layer matches the number of input features\n",
    "        keras.Input(shape=train_features.shape[1:]),\n",
    "        # First hidden layer with 256 units and ReLU activation\n",
    "        keras.layers.Dense(256, activation=\"relu\"),\n",
    "        # Second hidden layer with 256 units\n",
    "        keras.layers.Dense(256, activation=\"relu\"),\n",
    "        # Dropout layer to reduce overfitting (30% of nodes are randomly dropped)\n",
    "        keras.layers.Dropout(0.3),\n",
    "        # Third hidden layer\n",
    "        keras.layers.Dense(256, activation=\"relu\"),\n",
    "        # Additional dropout for regularization\n",
    "        keras.layers.Dropout(0.3),\n",
    "        # Output layer with 1 unit (binary output) and sigmoid activation\n",
    "        keras.layers.Dense(1, activation=\"sigmoid\"),\n",
    "    ]\n",
    ")\n",
    "\n",
    "# Print model architecture summary\n",
    "model.summary()\n"
   ]
  },
  {
   "cell_type": "markdown",
   "metadata": {},
   "source": [
    "ReLU is commonly used in hidden layers because it's fast and helps prevent vanishing gradients.\n",
    "Sigmoid is used at the output for binary classification because it maps output to a probability.\n",
    "\n"
   ]
  },
  {
   "cell_type": "markdown",
   "metadata": {},
   "source": [
    "## Train the Model with `class_weight` to Handle Imbalance\n",
    "\n",
    "We now compile and train the model:\n",
    "\n",
    "- **Loss Function:** `binary_crossentropy` is used for binary classification tasks.\n",
    "- **Optimizer:** Adam with a learning rate of `1e-2` is chosen for faster convergence (can be tuned).\n",
    "- **Metrics:** We track precision, recall, and confusion matrix components (FP, FN, TP, TN) to get a complete picture of performance.\n",
    "- **Class Weights:** These rebalance the loss to pay more attention to underrepresented classes (positive cases in our dataset).\n",
    "- **Checkpoint Callback:** Saves model weights after each epoch for reproducibility and analysis.\n",
    "\n",
    "This setup is robust and directly relevant to real-world CRM or fraud detection use cases.\n"
   ]
  },
  {
   "cell_type": "code",
   "execution_count": 10,
   "metadata": {},
   "outputs": [
    {
     "name": "stdout",
     "output_type": "stream",
     "text": [
      "Epoch 1/30\n",
      "Epoch 1/30\n"
     ]
    },
    {
     "name": "stdout",
     "output_type": "stream",
     "text": [
      "2/2 - 2s - 1s/step - fn: 141.0000 - fp: 1019.0000 - loss: 3.1735e-04 - precision: 0.2008 - recall: 0.6448 - tn: 2584.0000 - tp: 256.0000 - val_fn: 1.0000 - val_fp: 326.0000 - val_loss: 0.6688 - val_precision: 0.2010 - val_recall: 0.9880 - val_tn: 591.0000 - val_tp: 82.0000\n",
      "2/2 - 2s - 1s/step - fn: 141.0000 - fp: 1019.0000 - loss: 3.1735e-04 - precision: 0.2008 - recall: 0.6448 - tn: 2584.0000 - tp: 256.0000 - val_fn: 1.0000 - val_fp: 326.0000 - val_loss: 0.6688 - val_precision: 0.2010 - val_recall: 0.9880 - val_tn: 591.0000 - val_tp: 82.0000\n"
     ]
    },
    {
     "name": "stdout",
     "output_type": "stream",
     "text": [
      "Epoch 2/30\n",
      "Epoch 2/30\n"
     ]
    },
    {
     "name": "stdout",
     "output_type": "stream",
     "text": [
      "2/2 - 0s - 70ms/step - fn: 11.0000 - fp: 1043.0000 - loss: 2.2853e-04 - precision: 0.2701 - recall: 0.9723 - tn: 2560.0000 - tp: 386.0000 - val_fn: 9.0000 - val_fp: 93.0000 - val_loss: 0.3016 - val_precision: 0.4431 - val_recall: 0.8916 - val_tn: 824.0000 - val_tp: 74.0000\n",
      "2/2 - 0s - 70ms/step - fn: 11.0000 - fp: 1043.0000 - loss: 2.2853e-04 - precision: 0.2701 - recall: 0.9723 - tn: 2560.0000 - tp: 386.0000 - val_fn: 9.0000 - val_fp: 93.0000 - val_loss: 0.3016 - val_precision: 0.4431 - val_recall: 0.8916 - val_tn: 824.0000 - val_tp: 74.0000\n"
     ]
    },
    {
     "name": "stdout",
     "output_type": "stream",
     "text": [
      "Epoch 3/30\n",
      "Epoch 3/30\n"
     ]
    },
    {
     "name": "stdout",
     "output_type": "stream",
     "text": [
      "2/2 - 0s - 62ms/step - fn: 58.0000 - fp: 344.0000 - loss: 1.4782e-04 - precision: 0.4963 - recall: 0.8539 - tn: 3259.0000 - tp: 339.0000 - val_fn: 8.0000 - val_fp: 73.0000 - val_loss: 0.2204 - val_precision: 0.5068 - val_recall: 0.9036 - val_tn: 844.0000 - val_tp: 75.0000\n",
      "2/2 - 0s - 62ms/step - fn: 58.0000 - fp: 344.0000 - loss: 1.4782e-04 - precision: 0.4963 - recall: 0.8539 - tn: 3259.0000 - tp: 339.0000 - val_fn: 8.0000 - val_fp: 73.0000 - val_loss: 0.2204 - val_precision: 0.5068 - val_recall: 0.9036 - val_tn: 844.0000 - val_tp: 75.0000\n"
     ]
    },
    {
     "name": "stdout",
     "output_type": "stream",
     "text": [
      "Epoch 4/30\n",
      "Epoch 4/30\n"
     ]
    },
    {
     "name": "stdout",
     "output_type": "stream",
     "text": [
      "2/2 - 0s - 65ms/step - fn: 41.0000 - fp: 355.0000 - loss: 1.2378e-04 - precision: 0.5007 - recall: 0.8967 - tn: 3248.0000 - tp: 356.0000 - val_fn: 5.0000 - val_fp: 93.0000 - val_loss: 0.2425 - val_precision: 0.4561 - val_recall: 0.9398 - val_tn: 824.0000 - val_tp: 78.0000\n",
      "2/2 - 0s - 65ms/step - fn: 41.0000 - fp: 355.0000 - loss: 1.2378e-04 - precision: 0.5007 - recall: 0.8967 - tn: 3248.0000 - tp: 356.0000 - val_fn: 5.0000 - val_fp: 93.0000 - val_loss: 0.2425 - val_precision: 0.4561 - val_recall: 0.9398 - val_tn: 824.0000 - val_tp: 78.0000\n"
     ]
    },
    {
     "name": "stdout",
     "output_type": "stream",
     "text": [
      "Epoch 5/30\n",
      "Epoch 5/30\n"
     ]
    },
    {
     "name": "stdout",
     "output_type": "stream",
     "text": [
      "2/2 - 0s - 62ms/step - fn: 36.0000 - fp: 288.0000 - loss: 1.0946e-04 - precision: 0.5562 - recall: 0.9093 - tn: 3315.0000 - tp: 361.0000 - val_fn: 4.0000 - val_fp: 58.0000 - val_loss: 0.1387 - val_precision: 0.5766 - val_recall: 0.9518 - val_tn: 859.0000 - val_tp: 79.0000\n",
      "2/2 - 0s - 62ms/step - fn: 36.0000 - fp: 288.0000 - loss: 1.0946e-04 - precision: 0.5562 - recall: 0.9093 - tn: 3315.0000 - tp: 361.0000 - val_fn: 4.0000 - val_fp: 58.0000 - val_loss: 0.1387 - val_precision: 0.5766 - val_recall: 0.9518 - val_tn: 859.0000 - val_tp: 79.0000\n"
     ]
    },
    {
     "name": "stdout",
     "output_type": "stream",
     "text": [
      "Epoch 6/30\n",
      "Epoch 6/30\n"
     ]
    },
    {
     "name": "stdout",
     "output_type": "stream",
     "text": [
      "2/2 - 0s - 63ms/step - fn: 39.0000 - fp: 216.0000 - loss: 9.8260e-05 - precision: 0.6237 - recall: 0.9018 - tn: 3387.0000 - tp: 358.0000 - val_fn: 2.0000 - val_fp: 65.0000 - val_loss: 0.1783 - val_precision: 0.5548 - val_recall: 0.9759 - val_tn: 852.0000 - val_tp: 81.0000\n",
      "2/2 - 0s - 63ms/step - fn: 39.0000 - fp: 216.0000 - loss: 9.8260e-05 - precision: 0.6237 - recall: 0.9018 - tn: 3387.0000 - tp: 358.0000 - val_fn: 2.0000 - val_fp: 65.0000 - val_loss: 0.1783 - val_precision: 0.5548 - val_recall: 0.9759 - val_tn: 852.0000 - val_tp: 81.0000\n"
     ]
    },
    {
     "name": "stdout",
     "output_type": "stream",
     "text": [
      "Epoch 7/30\n",
      "Epoch 7/30\n"
     ]
    },
    {
     "name": "stdout",
     "output_type": "stream",
     "text": [
      "2/2 - 0s - 61ms/step - fn: 17.0000 - fp: 299.0000 - loss: 8.8506e-05 - precision: 0.5596 - recall: 0.9572 - tn: 3304.0000 - tp: 380.0000 - val_fn: 4.0000 - val_fp: 46.0000 - val_loss: 0.1307 - val_precision: 0.6320 - val_recall: 0.9518 - val_tn: 871.0000 - val_tp: 79.0000\n",
      "2/2 - 0s - 61ms/step - fn: 17.0000 - fp: 299.0000 - loss: 8.8506e-05 - precision: 0.5596 - recall: 0.9572 - tn: 3304.0000 - tp: 380.0000 - val_fn: 4.0000 - val_fp: 46.0000 - val_loss: 0.1307 - val_precision: 0.6320 - val_recall: 0.9518 - val_tn: 871.0000 - val_tp: 79.0000\n"
     ]
    },
    {
     "name": "stdout",
     "output_type": "stream",
     "text": [
      "Epoch 8/30\n",
      "Epoch 8/30\n"
     ]
    },
    {
     "name": "stdout",
     "output_type": "stream",
     "text": [
      "2/2 - 0s - 77ms/step - fn: 27.0000 - fp: 177.0000 - loss: 7.8341e-05 - precision: 0.6764 - recall: 0.9320 - tn: 3426.0000 - tp: 370.0000 - val_fn: 6.0000 - val_fp: 36.0000 - val_loss: 0.1049 - val_precision: 0.6814 - val_recall: 0.9277 - val_tn: 881.0000 - val_tp: 77.0000\n",
      "2/2 - 0s - 77ms/step - fn: 27.0000 - fp: 177.0000 - loss: 7.8341e-05 - precision: 0.6764 - recall: 0.9320 - tn: 3426.0000 - tp: 370.0000 - val_fn: 6.0000 - val_fp: 36.0000 - val_loss: 0.1049 - val_precision: 0.6814 - val_recall: 0.9277 - val_tn: 881.0000 - val_tp: 77.0000\n"
     ]
    },
    {
     "name": "stdout",
     "output_type": "stream",
     "text": [
      "Epoch 9/30\n",
      "Epoch 9/30\n"
     ]
    },
    {
     "name": "stdout",
     "output_type": "stream",
     "text": [
      "2/2 - 0s - 69ms/step - fn: 22.0000 - fp: 165.0000 - loss: 7.2010e-05 - precision: 0.6944 - recall: 0.9446 - tn: 3438.0000 - tp: 375.0000 - val_fn: 3.0000 - val_fp: 64.0000 - val_loss: 0.1627 - val_precision: 0.5556 - val_recall: 0.9639 - val_tn: 853.0000 - val_tp: 80.0000\n",
      "2/2 - 0s - 69ms/step - fn: 22.0000 - fp: 165.0000 - loss: 7.2010e-05 - precision: 0.6944 - recall: 0.9446 - tn: 3438.0000 - tp: 375.0000 - val_fn: 3.0000 - val_fp: 64.0000 - val_loss: 0.1627 - val_precision: 0.5556 - val_recall: 0.9639 - val_tn: 853.0000 - val_tp: 80.0000\n"
     ]
    },
    {
     "name": "stdout",
     "output_type": "stream",
     "text": [
      "Epoch 10/30\n",
      "Epoch 10/30\n"
     ]
    },
    {
     "name": "stdout",
     "output_type": "stream",
     "text": [
      "2/2 - 0s - 60ms/step - fn: 13.0000 - fp: 277.0000 - loss: 7.0912e-05 - precision: 0.5809 - recall: 0.9673 - tn: 3326.0000 - tp: 384.0000 - val_fn: 2.0000 - val_fp: 53.0000 - val_loss: 0.1498 - val_precision: 0.6045 - val_recall: 0.9759 - val_tn: 864.0000 - val_tp: 81.0000\n",
      "2/2 - 0s - 60ms/step - fn: 13.0000 - fp: 277.0000 - loss: 7.0912e-05 - precision: 0.5809 - recall: 0.9673 - tn: 3326.0000 - tp: 384.0000 - val_fn: 2.0000 - val_fp: 53.0000 - val_loss: 0.1498 - val_precision: 0.6045 - val_recall: 0.9759 - val_tn: 864.0000 - val_tp: 81.0000\n"
     ]
    },
    {
     "name": "stdout",
     "output_type": "stream",
     "text": [
      "Epoch 11/30\n",
      "Epoch 11/30\n"
     ]
    },
    {
     "name": "stdout",
     "output_type": "stream",
     "text": [
      "2/2 - 0s - 61ms/step - fn: 12.0000 - fp: 199.0000 - loss: 6.4125e-05 - precision: 0.6592 - recall: 0.9698 - tn: 3404.0000 - tp: 385.0000 - val_fn: 7.0000 - val_fp: 29.0000 - val_loss: 0.1006 - val_precision: 0.7238 - val_recall: 0.9157 - val_tn: 888.0000 - val_tp: 76.0000\n",
      "2/2 - 0s - 61ms/step - fn: 12.0000 - fp: 199.0000 - loss: 6.4125e-05 - precision: 0.6592 - recall: 0.9698 - tn: 3404.0000 - tp: 385.0000 - val_fn: 7.0000 - val_fp: 29.0000 - val_loss: 0.1006 - val_precision: 0.7238 - val_recall: 0.9157 - val_tn: 888.0000 - val_tp: 76.0000\n"
     ]
    },
    {
     "name": "stdout",
     "output_type": "stream",
     "text": [
      "Epoch 12/30\n",
      "Epoch 12/30\n"
     ]
    },
    {
     "name": "stdout",
     "output_type": "stream",
     "text": [
      "2/2 - 0s - 101ms/step - fn: 21.0000 - fp: 128.0000 - loss: 6.3451e-05 - precision: 0.7460 - recall: 0.9471 - tn: 3475.0000 - tp: 376.0000 - val_fn: 5.0000 - val_fp: 34.0000 - val_loss: 0.1113 - val_precision: 0.6964 - val_recall: 0.9398 - val_tn: 883.0000 - val_tp: 78.0000\n",
      "2/2 - 0s - 101ms/step - fn: 21.0000 - fp: 128.0000 - loss: 6.3451e-05 - precision: 0.7460 - recall: 0.9471 - tn: 3475.0000 - tp: 376.0000 - val_fn: 5.0000 - val_fp: 34.0000 - val_loss: 0.1113 - val_precision: 0.6964 - val_recall: 0.9398 - val_tn: 883.0000 - val_tp: 78.0000\n"
     ]
    },
    {
     "name": "stdout",
     "output_type": "stream",
     "text": [
      "Epoch 13/30\n",
      "Epoch 13/30\n"
     ]
    },
    {
     "name": "stdout",
     "output_type": "stream",
     "text": [
      "2/2 - 0s - 160ms/step - fn: 13.0000 - fp: 168.0000 - loss: 5.7585e-05 - precision: 0.6957 - recall: 0.9673 - tn: 3435.0000 - tp: 384.0000 - val_fn: 3.0000 - val_fp: 46.0000 - val_loss: 0.1264 - val_precision: 0.6349 - val_recall: 0.9639 - val_tn: 871.0000 - val_tp: 80.0000\n",
      "2/2 - 0s - 160ms/step - fn: 13.0000 - fp: 168.0000 - loss: 5.7585e-05 - precision: 0.6957 - recall: 0.9673 - tn: 3435.0000 - tp: 384.0000 - val_fn: 3.0000 - val_fp: 46.0000 - val_loss: 0.1264 - val_precision: 0.6349 - val_recall: 0.9639 - val_tn: 871.0000 - val_tp: 80.0000\n"
     ]
    },
    {
     "name": "stdout",
     "output_type": "stream",
     "text": [
      "Epoch 14/30\n",
      "Epoch 14/30\n"
     ]
    },
    {
     "name": "stdout",
     "output_type": "stream",
     "text": [
      "2/2 - 0s - 72ms/step - fn: 12.0000 - fp: 171.0000 - loss: 5.4454e-05 - precision: 0.6924 - recall: 0.9698 - tn: 3432.0000 - tp: 385.0000 - val_fn: 5.0000 - val_fp: 26.0000 - val_loss: 0.0919 - val_precision: 0.7500 - val_recall: 0.9398 - val_tn: 891.0000 - val_tp: 78.0000\n",
      "2/2 - 0s - 72ms/step - fn: 12.0000 - fp: 171.0000 - loss: 5.4454e-05 - precision: 0.6924 - recall: 0.9698 - tn: 3432.0000 - tp: 385.0000 - val_fn: 5.0000 - val_fp: 26.0000 - val_loss: 0.0919 - val_precision: 0.7500 - val_recall: 0.9398 - val_tn: 891.0000 - val_tp: 78.0000\n"
     ]
    },
    {
     "name": "stdout",
     "output_type": "stream",
     "text": [
      "Epoch 15/30\n",
      "Epoch 15/30\n"
     ]
    },
    {
     "name": "stdout",
     "output_type": "stream",
     "text": [
      "2/2 - 0s - 139ms/step - fn: 15.0000 - fp: 104.0000 - loss: 5.0807e-05 - precision: 0.7860 - recall: 0.9622 - tn: 3499.0000 - tp: 382.0000 - val_fn: 5.0000 - val_fp: 20.0000 - val_loss: 0.0787 - val_precision: 0.7959 - val_recall: 0.9398 - val_tn: 897.0000 - val_tp: 78.0000\n",
      "2/2 - 0s - 139ms/step - fn: 15.0000 - fp: 104.0000 - loss: 5.0807e-05 - precision: 0.7860 - recall: 0.9622 - tn: 3499.0000 - tp: 382.0000 - val_fn: 5.0000 - val_fp: 20.0000 - val_loss: 0.0787 - val_precision: 0.7959 - val_recall: 0.9398 - val_tn: 897.0000 - val_tp: 78.0000\n"
     ]
    },
    {
     "name": "stdout",
     "output_type": "stream",
     "text": [
      "Epoch 16/30\n",
      "Epoch 16/30\n"
     ]
    },
    {
     "name": "stdout",
     "output_type": "stream",
     "text": [
      "2/2 - 1s - 255ms/step - fn: 17.0000 - fp: 100.0000 - loss: 4.6815e-05 - precision: 0.7917 - recall: 0.9572 - tn: 3503.0000 - tp: 380.0000 - val_fn: 4.0000 - val_fp: 31.0000 - val_loss: 0.1025 - val_precision: 0.7182 - val_recall: 0.9518 - val_tn: 886.0000 - val_tp: 79.0000\n",
      "2/2 - 1s - 255ms/step - fn: 17.0000 - fp: 100.0000 - loss: 4.6815e-05 - precision: 0.7917 - recall: 0.9572 - tn: 3503.0000 - tp: 380.0000 - val_fn: 4.0000 - val_fp: 31.0000 - val_loss: 0.1025 - val_precision: 0.7182 - val_recall: 0.9518 - val_tn: 886.0000 - val_tp: 79.0000\n"
     ]
    },
    {
     "name": "stdout",
     "output_type": "stream",
     "text": [
      "Epoch 17/30\n",
      "Epoch 17/30\n"
     ]
    },
    {
     "name": "stdout",
     "output_type": "stream",
     "text": [
      "2/2 - 0s - 111ms/step - fn: 10.0000 - fp: 143.0000 - loss: 4.7518e-05 - precision: 0.7302 - recall: 0.9748 - tn: 3460.0000 - tp: 387.0000 - val_fn: 5.0000 - val_fp: 27.0000 - val_loss: 0.0917 - val_precision: 0.7429 - val_recall: 0.9398 - val_tn: 890.0000 - val_tp: 78.0000\n",
      "2/2 - 0s - 111ms/step - fn: 10.0000 - fp: 143.0000 - loss: 4.7518e-05 - precision: 0.7302 - recall: 0.9748 - tn: 3460.0000 - tp: 387.0000 - val_fn: 5.0000 - val_fp: 27.0000 - val_loss: 0.0917 - val_precision: 0.7429 - val_recall: 0.9398 - val_tn: 890.0000 - val_tp: 78.0000\n"
     ]
    },
    {
     "name": "stdout",
     "output_type": "stream",
     "text": [
      "Epoch 18/30\n",
      "Epoch 18/30\n"
     ]
    },
    {
     "name": "stdout",
     "output_type": "stream",
     "text": [
      "2/2 - 0s - 78ms/step - fn: 11.0000 - fp: 103.0000 - loss: 4.4114e-05 - precision: 0.7894 - recall: 0.9723 - tn: 3500.0000 - tp: 386.0000 - val_fn: 5.0000 - val_fp: 22.0000 - val_loss: 0.0766 - val_precision: 0.7800 - val_recall: 0.9398 - val_tn: 895.0000 - val_tp: 78.0000\n",
      "2/2 - 0s - 78ms/step - fn: 11.0000 - fp: 103.0000 - loss: 4.4114e-05 - precision: 0.7894 - recall: 0.9723 - tn: 3500.0000 - tp: 386.0000 - val_fn: 5.0000 - val_fp: 22.0000 - val_loss: 0.0766 - val_precision: 0.7800 - val_recall: 0.9398 - val_tn: 895.0000 - val_tp: 78.0000\n"
     ]
    },
    {
     "name": "stdout",
     "output_type": "stream",
     "text": [
      "Epoch 19/30\n",
      "Epoch 19/30\n"
     ]
    },
    {
     "name": "stdout",
     "output_type": "stream",
     "text": [
      "2/2 - 0s - 68ms/step - fn: 14.0000 - fp: 88.0000 - loss: 4.2017e-05 - precision: 0.8132 - recall: 0.9647 - tn: 3515.0000 - tp: 383.0000 - val_fn: 5.0000 - val_fp: 24.0000 - val_loss: 0.0838 - val_precision: 0.7647 - val_recall: 0.9398 - val_tn: 893.0000 - val_tp: 78.0000\n",
      "2/2 - 0s - 68ms/step - fn: 14.0000 - fp: 88.0000 - loss: 4.2017e-05 - precision: 0.8132 - recall: 0.9647 - tn: 3515.0000 - tp: 383.0000 - val_fn: 5.0000 - val_fp: 24.0000 - val_loss: 0.0838 - val_precision: 0.7647 - val_recall: 0.9398 - val_tn: 893.0000 - val_tp: 78.0000\n"
     ]
    },
    {
     "name": "stdout",
     "output_type": "stream",
     "text": [
      "Epoch 20/30\n",
      "Epoch 20/30\n"
     ]
    },
    {
     "name": "stdout",
     "output_type": "stream",
     "text": [
      "2/2 - 0s - 65ms/step - fn: 13.0000 - fp: 106.0000 - loss: 3.9287e-05 - precision: 0.7837 - recall: 0.9673 - tn: 3497.0000 - tp: 384.0000 - val_fn: 5.0000 - val_fp: 23.0000 - val_loss: 0.0862 - val_precision: 0.7723 - val_recall: 0.9398 - val_tn: 894.0000 - val_tp: 78.0000\n",
      "2/2 - 0s - 65ms/step - fn: 13.0000 - fp: 106.0000 - loss: 3.9287e-05 - precision: 0.7837 - recall: 0.9673 - tn: 3497.0000 - tp: 384.0000 - val_fn: 5.0000 - val_fp: 23.0000 - val_loss: 0.0862 - val_precision: 0.7723 - val_recall: 0.9398 - val_tn: 894.0000 - val_tp: 78.0000\n"
     ]
    },
    {
     "name": "stdout",
     "output_type": "stream",
     "text": [
      "Epoch 21/30\n",
      "Epoch 21/30\n"
     ]
    },
    {
     "name": "stdout",
     "output_type": "stream",
     "text": [
      "2/2 - 0s - 62ms/step - fn: 10.0000 - fp: 93.0000 - loss: 3.5550e-05 - precision: 0.8062 - recall: 0.9748 - tn: 3510.0000 - tp: 387.0000 - val_fn: 5.0000 - val_fp: 19.0000 - val_loss: 0.0755 - val_precision: 0.8041 - val_recall: 0.9398 - val_tn: 898.0000 - val_tp: 78.0000\n",
      "2/2 - 0s - 62ms/step - fn: 10.0000 - fp: 93.0000 - loss: 3.5550e-05 - precision: 0.8062 - recall: 0.9748 - tn: 3510.0000 - tp: 387.0000 - val_fn: 5.0000 - val_fp: 19.0000 - val_loss: 0.0755 - val_precision: 0.8041 - val_recall: 0.9398 - val_tn: 898.0000 - val_tp: 78.0000\n"
     ]
    },
    {
     "name": "stdout",
     "output_type": "stream",
     "text": [
      "Epoch 22/30\n",
      "Epoch 22/30\n"
     ]
    },
    {
     "name": "stdout",
     "output_type": "stream",
     "text": [
      "2/2 - 0s - 72ms/step - fn: 15.0000 - fp: 88.0000 - loss: 3.8438e-05 - precision: 0.8128 - recall: 0.9622 - tn: 3515.0000 - tp: 382.0000 - val_fn: 5.0000 - val_fp: 26.0000 - val_loss: 0.0868 - val_precision: 0.7500 - val_recall: 0.9398 - val_tn: 891.0000 - val_tp: 78.0000\n",
      "2/2 - 0s - 72ms/step - fn: 15.0000 - fp: 88.0000 - loss: 3.8438e-05 - precision: 0.8128 - recall: 0.9622 - tn: 3515.0000 - tp: 382.0000 - val_fn: 5.0000 - val_fp: 26.0000 - val_loss: 0.0868 - val_precision: 0.7500 - val_recall: 0.9398 - val_tn: 891.0000 - val_tp: 78.0000\n"
     ]
    },
    {
     "name": "stdout",
     "output_type": "stream",
     "text": [
      "Epoch 23/30\n",
      "Epoch 23/30\n"
     ]
    },
    {
     "name": "stdout",
     "output_type": "stream",
     "text": [
      "2/2 - 0s - 67ms/step - fn: 9.0000 - fp: 100.0000 - loss: 3.5176e-05 - precision: 0.7951 - recall: 0.9773 - tn: 3503.0000 - tp: 388.0000 - val_fn: 5.0000 - val_fp: 19.0000 - val_loss: 0.0730 - val_precision: 0.8041 - val_recall: 0.9398 - val_tn: 898.0000 - val_tp: 78.0000\n",
      "2/2 - 0s - 67ms/step - fn: 9.0000 - fp: 100.0000 - loss: 3.5176e-05 - precision: 0.7951 - recall: 0.9773 - tn: 3503.0000 - tp: 388.0000 - val_fn: 5.0000 - val_fp: 19.0000 - val_loss: 0.0730 - val_precision: 0.8041 - val_recall: 0.9398 - val_tn: 898.0000 - val_tp: 78.0000\n"
     ]
    },
    {
     "name": "stdout",
     "output_type": "stream",
     "text": [
      "Epoch 24/30\n",
      "Epoch 24/30\n"
     ]
    },
    {
     "name": "stdout",
     "output_type": "stream",
     "text": [
      "2/2 - 0s - 73ms/step - fn: 8.0000 - fp: 73.0000 - loss: 3.2925e-05 - precision: 0.8420 - recall: 0.9798 - tn: 3530.0000 - tp: 389.0000 - val_fn: 5.0000 - val_fp: 16.0000 - val_loss: 0.0688 - val_precision: 0.8298 - val_recall: 0.9398 - val_tn: 901.0000 - val_tp: 78.0000\n",
      "2/2 - 0s - 73ms/step - fn: 8.0000 - fp: 73.0000 - loss: 3.2925e-05 - precision: 0.8420 - recall: 0.9798 - tn: 3530.0000 - tp: 389.0000 - val_fn: 5.0000 - val_fp: 16.0000 - val_loss: 0.0688 - val_precision: 0.8298 - val_recall: 0.9398 - val_tn: 901.0000 - val_tp: 78.0000\n"
     ]
    },
    {
     "name": "stdout",
     "output_type": "stream",
     "text": [
      "Epoch 25/30\n",
      "Epoch 25/30\n"
     ]
    },
    {
     "name": "stdout",
     "output_type": "stream",
     "text": [
      "2/2 - 0s - 64ms/step - fn: 14.0000 - fp: 69.0000 - loss: 3.2507e-05 - precision: 0.8473 - recall: 0.9647 - tn: 3534.0000 - tp: 383.0000 - val_fn: 5.0000 - val_fp: 25.0000 - val_loss: 0.0873 - val_precision: 0.7573 - val_recall: 0.9398 - val_tn: 892.0000 - val_tp: 78.0000\n",
      "2/2 - 0s - 64ms/step - fn: 14.0000 - fp: 69.0000 - loss: 3.2507e-05 - precision: 0.8473 - recall: 0.9647 - tn: 3534.0000 - tp: 383.0000 - val_fn: 5.0000 - val_fp: 25.0000 - val_loss: 0.0873 - val_precision: 0.7573 - val_recall: 0.9398 - val_tn: 892.0000 - val_tp: 78.0000\n"
     ]
    },
    {
     "name": "stdout",
     "output_type": "stream",
     "text": [
      "Epoch 26/30\n",
      "Epoch 26/30\n"
     ]
    },
    {
     "name": "stdout",
     "output_type": "stream",
     "text": [
      "2/2 - 0s - 88ms/step - fn: 8.0000 - fp: 119.0000 - loss: 3.4849e-05 - precision: 0.7657 - recall: 0.9798 - tn: 3484.0000 - tp: 389.0000 - val_fn: 5.0000 - val_fp: 24.0000 - val_loss: 0.0828 - val_precision: 0.7647 - val_recall: 0.9398 - val_tn: 893.0000 - val_tp: 78.0000\n",
      "2/2 - 0s - 88ms/step - fn: 8.0000 - fp: 119.0000 - loss: 3.4849e-05 - precision: 0.7657 - recall: 0.9798 - tn: 3484.0000 - tp: 389.0000 - val_fn: 5.0000 - val_fp: 24.0000 - val_loss: 0.0828 - val_precision: 0.7647 - val_recall: 0.9398 - val_tn: 893.0000 - val_tp: 78.0000\n"
     ]
    },
    {
     "name": "stdout",
     "output_type": "stream",
     "text": [
      "Epoch 27/30\n",
      "Epoch 27/30\n"
     ]
    },
    {
     "name": "stdout",
     "output_type": "stream",
     "text": [
      "2/2 - 0s - 67ms/step - fn: 10.0000 - fp: 88.0000 - loss: 3.1100e-05 - precision: 0.8147 - recall: 0.9748 - tn: 3515.0000 - tp: 387.0000 - val_fn: 6.0000 - val_fp: 9.0000 - val_loss: 0.0606 - val_precision: 0.8953 - val_recall: 0.9277 - val_tn: 908.0000 - val_tp: 77.0000\n",
      "2/2 - 0s - 67ms/step - fn: 10.0000 - fp: 88.0000 - loss: 3.1100e-05 - precision: 0.8147 - recall: 0.9748 - tn: 3515.0000 - tp: 387.0000 - val_fn: 6.0000 - val_fp: 9.0000 - val_loss: 0.0606 - val_precision: 0.8953 - val_recall: 0.9277 - val_tn: 908.0000 - val_tp: 77.0000\n"
     ]
    },
    {
     "name": "stdout",
     "output_type": "stream",
     "text": [
      "Epoch 28/30\n",
      "Epoch 28/30\n"
     ]
    },
    {
     "name": "stdout",
     "output_type": "stream",
     "text": [
      "2/2 - 0s - 63ms/step - fn: 11.0000 - fp: 45.0000 - loss: 2.8198e-05 - precision: 0.8956 - recall: 0.9723 - tn: 3558.0000 - tp: 386.0000 - val_fn: 5.0000 - val_fp: 24.0000 - val_loss: 0.0845 - val_precision: 0.7647 - val_recall: 0.9398 - val_tn: 893.0000 - val_tp: 78.0000\n",
      "2/2 - 0s - 63ms/step - fn: 11.0000 - fp: 45.0000 - loss: 2.8198e-05 - precision: 0.8956 - recall: 0.9723 - tn: 3558.0000 - tp: 386.0000 - val_fn: 5.0000 - val_fp: 24.0000 - val_loss: 0.0845 - val_precision: 0.7647 - val_recall: 0.9398 - val_tn: 893.0000 - val_tp: 78.0000\n"
     ]
    },
    {
     "name": "stdout",
     "output_type": "stream",
     "text": [
      "Epoch 29/30\n",
      "Epoch 29/30\n"
     ]
    },
    {
     "name": "stdout",
     "output_type": "stream",
     "text": [
      "2/2 - 0s - 61ms/step - fn: 6.0000 - fp: 111.0000 - loss: 2.9285e-05 - precision: 0.7789 - recall: 0.9849 - tn: 3492.0000 - tp: 391.0000 - val_fn: 5.0000 - val_fp: 19.0000 - val_loss: 0.0714 - val_precision: 0.8041 - val_recall: 0.9398 - val_tn: 898.0000 - val_tp: 78.0000\n",
      "2/2 - 0s - 61ms/step - fn: 6.0000 - fp: 111.0000 - loss: 2.9285e-05 - precision: 0.7789 - recall: 0.9849 - tn: 3492.0000 - tp: 391.0000 - val_fn: 5.0000 - val_fp: 19.0000 - val_loss: 0.0714 - val_precision: 0.8041 - val_recall: 0.9398 - val_tn: 898.0000 - val_tp: 78.0000\n"
     ]
    },
    {
     "name": "stdout",
     "output_type": "stream",
     "text": [
      "Epoch 30/30\n",
      "Epoch 30/30\n"
     ]
    },
    {
     "name": "stdout",
     "output_type": "stream",
     "text": [
      "2/2 - 0s - 78ms/step - fn: 9.0000 - fp: 59.0000 - loss: 2.5526e-05 - precision: 0.8680 - recall: 0.9773 - tn: 3544.0000 - tp: 388.0000 - val_fn: 7.0000 - val_fp: 13.0000 - val_loss: 0.0632 - val_precision: 0.8539 - val_recall: 0.9157 - val_tn: 904.0000 - val_tp: 76.0000\n",
      "2/2 - 0s - 78ms/step - fn: 9.0000 - fp: 59.0000 - loss: 2.5526e-05 - precision: 0.8680 - recall: 0.9773 - tn: 3544.0000 - tp: 388.0000 - val_fn: 7.0000 - val_fp: 13.0000 - val_loss: 0.0632 - val_precision: 0.8539 - val_recall: 0.9157 - val_tn: 904.0000 - val_tp: 76.0000\n"
     ]
    },
    {
     "data": {
      "text/plain": [
       "<keras.src.callbacks.history.History at 0x316bf0b90>"
      ]
     },
     "execution_count": null,
     "metadata": {},
     "output_type": "execute_result"
    }
   ],
   "source": [
    "# Define custom metrics for detailed performance tracking\n",
    "metrics = [\n",
    "    keras.metrics.FalseNegatives(name=\"fn\"),  # How many real positives were missed?\n",
    "    keras.metrics.FalsePositives(name=\"fp\"),  # How many negatives were incorrectly flagged?\n",
    "    keras.metrics.TrueNegatives(name=\"tn\"),\n",
    "    keras.metrics.TruePositives(name=\"tp\"),\n",
    "    keras.metrics.Precision(name=\"precision\"),  # TP / (TP + FP)\n",
    "    keras.metrics.Recall(name=\"recall\"),        # TP / (TP + FN)\n",
    "]\n",
    "\n",
    "# Compile the model with optimizer, loss, and metrics\n",
    "model.compile(\n",
    "    optimizer=keras.optimizers.Adam(1e-2),\n",
    "    loss=\"binary_crossentropy\",\n",
    "    metrics=metrics\n",
    ")\n",
    "\n",
    "# Create a callback to save the model at each epoch\n",
    "callbacks = [keras.callbacks.ModelCheckpoint(\"fraud_model_at_epoch_{epoch}.keras\")]\n",
    "\n",
    "# Define class weights to handle class imbalance (learned earlier)\n",
    "class_weight = {0: weight_for_0, 1: weight_for_1}\n",
    "\n",
    "# Train the model using batch gradient descent and class weighting\n",
    "model.fit(\n",
    "    train_features,\n",
    "    train_targets,\n",
    "    batch_size=2048,                   # Large batch for fast, stable convergence\n",
    "    epochs=30,\n",
    "    verbose=2,\n",
    "    callbacks=callbacks,               # Save checkpoints\n",
    "    validation_data=(val_features, val_targets),  # Monitor validation performance\n",
    "    class_weight=class_weight          # Apply imbalance correction\n",
    ")\n"
   ]
  },
  {
   "cell_type": "markdown",
   "metadata": {},
   "source": [
    "Using class_weight tells the model that misclassifying a minority-class instance (e.g. a customer who would have accepted a loan) is more costly than misclassifying a majority-class one — which aligns well with business priorities."
   ]
  },
  {
   "cell_type": "markdown",
   "metadata": {},
   "source": [
    "## Summary\n",
    "This project demonstrates the business value of deep learning by applying it to a real-world financial decision: predicting whether a customer will accept a personal loan offer. Using modern Keras practices, we build a neural network that can learn complex, nonlinear relationships between customer attributes (like income, credit card usage, and mortgage) and their likelihood of accepting a loan. This insight enables banks and financial institutions to target high-potential customers, reduce wasted marketing spend, and increase conversion rates—all while minimizing the risk of overlooking valuable leads. Deep learning adds value over traditional models by handling high-dimensional data, uncovering subtle patterns, and adapting quickly as new data becomes available. When used responsibly and explainably, it becomes a powerful tool for customer relationship management, personalized marketing, and strategic decision-making, making it a cornerstone of modern business analytics."
   ]
  }
 ],
 "metadata": {
  "language_info": {
   "name": "python"
  }
 },
 "nbformat": 4,
 "nbformat_minor": 2
}
