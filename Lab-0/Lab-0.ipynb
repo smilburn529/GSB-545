{
 "cells": [
  {
   "cell_type": "markdown",
   "metadata": {},
   "source": [
    "## Lab 0: Personal Finance"
   ]
  },
  {
   "cell_type": "markdown",
   "metadata": {},
   "source": [
    "What were your reasons for pursuing this MSBA program here at Cal Poly? Did you come straight from another academic program (Bachelors, Masters, etc.) or were you working before this? What program(s) or job did you come from?\n",
    "\n",
    "I wanted to join the MSBA program at Cal Poly because I wanted to gain additional technical skills to the ones that I learned in undergrad. I joined the program straight from my undergrad at Cal Poly. I graduated in the spring of 2024 with a Bachelors in Business Adminstration in Information Systems and a Minor in Statistics\n",
    "\n",
    "What job or career do you hope to pursue after graduating from this MSBA program? Do you have particular industries or companies in mind? If so, what are they? Do you have particular places in mind that you'd like to live or work? Why are you interested in these companies, etc.?\n",
    "\n",
    "A hope to pursue a career in Business Analytics. I don't really have a industry or company that I want to work in. I am very open to working in many different industries. But I really want to move to San Diego, so I care more about finding a job there. \n"
   ]
  },
  {
   "cell_type": "markdown",
   "metadata": {},
   "source": [
    "If you haven't already started thinking about your finances after graduation, let's start! You should use Python to store relevant values and perform the calculations described below:\n",
    "What is your estimate of the cost-of-living in your desired place to live, per month? You should justify this estimate by citing online sources or other relevant information. You should also break this down into component costs (e.g. housing, utilities, car, gas, internet, food, entertainment, etc.) as much as you can.\n",
    "\n",
    "I estimate rent to be around $2,000 per month. Rent is expensive in San Diego, but I do not expect to live by myself after college. I would want to live with 2-3 roommates to make rent cheaper. Other expenses like utilities I based it off what I spend now each month in Slo, and considering will have have roommates to split costs with. I estimate I will spend $300 on my car each month for insurance and gas. I would expect groceries to be around $400 a month because that's roughly what I spend now. I would expect to spend more money on Dining and Entertainment because I will be working full time I would expect to splurge more on things that I would like to spend my money on. And then I will include another $200 for miscellaneous costs that come up each month. I estimate that about 25% of my income will go to taxes in San Diego. This is a rough estimate based on a California Income Tax Calculator online. I predict it will be about 25% assuming my salary is between 65-100k. \n",
    "\n"
   ]
  },
  {
   "cell_type": "code",
   "execution_count": 6,
   "metadata": {},
   "outputs": [
    {
     "name": "stdout",
     "output_type": "stream",
     "text": [
      "----- Cost of Living Estimate (San Diego, CA) -----\n",
      "Housing: $2200.00/month\n",
      "Utilities: $150.00/month\n",
      "Internet: $30.00/month\n",
      "Transportation: $300.00/month\n",
      "Groceries: $400.00/month\n",
      "Dining & Entertainment: $250.00/month\n",
      "Miscellaneous: $200.00/month\n",
      "\n",
      "Total Monthly Cost: $3530.00\n",
      "Total Annual Cost: $42360.00\n",
      "\n",
      "Estimated Minimum Gross Salary Needed (25% tax): $56480.00\n",
      "----- Cost of Living Estimate (San Diego, CA) -----\n",
      "Housing: $2200.00/month\n",
      "Utilities: $150.00/month\n",
      "Internet: $30.00/month\n",
      "Transportation: $300.00/month\n",
      "Groceries: $400.00/month\n",
      "Dining & Entertainment: $250.00/month\n",
      "Miscellaneous: $200.00/month\n",
      "\n",
      "Total Monthly Cost: $3530.00\n",
      "Total Annual Cost: $42360.00\n",
      "\n",
      "Estimated Minimum Gross Salary Needed (25% tax): $56480.00\n"
     ]
    }
   ],
   "source": [
    "# Monthly cost breakdown\n",
    "monthly_expenses = {\n",
    "    \"Housing\": 2200,\n",
    "    \"Utilities\": 150,\n",
    "    \"Internet\": 30,\n",
    "    \"Transportation\": 300,\n",
    "    \"Groceries\": 400,\n",
    "    \"Dining & Entertainment\": 250,\n",
    "    \"Miscellaneous\": 200\n",
    "}\n",
    "\n",
    "# Calculate total monthly and annual cost\n",
    "total_monthly_cost = sum(monthly_expenses.values())\n",
    "total_annual_cost = total_monthly_cost * 12\n",
    "\n",
    "# Assume take-home pay is 75% of gross salary due to taxes\n",
    "take_home_ratio = 0.75\n",
    "\n",
    "# Calculate required gross salary\n",
    "required_gross_salary = total_annual_cost / take_home_ratio\n",
    "\n",
    "# Output the results\n",
    "print(\"----- Cost of Living Estimate (San Diego, CA) -----\")\n",
    "for category, cost in monthly_expenses.items():\n",
    "    print(f\"{category}: ${cost:.2f}/month\")\n",
    "\n",
    "print(f\"\\nTotal Monthly Cost: ${total_monthly_cost:.2f}\")\n",
    "print(f\"Total Annual Cost: ${total_annual_cost:.2f}\")\n",
    "print(f\"\\nEstimated Minimum Gross Salary Needed (25% tax): ${required_gross_salary:.2f}\")\n"
   ]
  },
  {
   "cell_type": "markdown",
   "metadata": {},
   "source": [
    "What is the annual salary you need to afford the costs you outlined above? This should, in essence, be the minimum salary you need to afford the life you could live happily (you could probably survive on less, but let's not get too detailed here). Be careful to consider whether you're taking taxes into account! We don't need to get too detailed here either, but you should try to estimate what your actual take-home pay is versus the gross salary that you might be presented with in the offer from your employer.\n",
    "\n",
    "The total annual cost that I calculated came out to $42,360. The Minimum salary that I would need to pay for this lifestyle would be around $56,000 accounting for taxes. "
   ]
  },
  {
   "cell_type": "markdown",
   "metadata": {},
   "source": [
    "What is the annual salary you WANT? I imagine this will be higher than what was previously mentioned. What do you want the additional income for?\n",
    "    \n",
    "    - The annual salary that I would want is $75,000. This would allow me to save and invest money each year because I obviously would want to buy a house one day and start a family. \n",
    "    \n",
    "Finally, when do you want to retire and with how much money? This is where the bulk of your computations for this assignment will be, and you may need to do some research into how these things are computed. Your job may have retirement funding built into it; it may not. Additionally, there are some calculators online that do some of these types of calculations for you. I'd like you to (re-)do these calculations as much as possible on your own in Python.\n"
   ]
  },
  {
   "cell_type": "code",
   "execution_count": 10,
   "metadata": {},
   "outputs": [
    {
     "name": "stdout",
     "output_type": "stream",
     "text": [
      "Total retirement savings needed: $825,889.87\n",
      "Annual savings required: $6,077.00\n",
      "Gross salary needed: $70,022.67\n",
      "Total retirement savings needed: $825,889.87\n",
      "Annual savings required: $6,077.00\n",
      "Gross salary needed: $70,022.67\n"
     ]
    }
   ],
   "source": [
    "current_age = 22\n",
    "retirement_age = 60\n",
    "life_expectancy = 90\n",
    "annual_expenses_retirement = 60000  \n",
    "annual_return = 0.06  \n",
    "inflation_rate = 0.02\n",
    "current_savings = 0\n",
    "current_annual_expenses = 46440  # From previous cost-of-living estimate\n",
    "tax_rate = 0.25\n",
    "\n",
    "# Years in retirement\n",
    "years_in_retirement = life_expectancy - retirement_age\n",
    "\n",
    "# Calculate the present value needed at retirement to cover annual expenses\n",
    "pv_needed = annual_expenses_retirement * (1 - (1 + annual_return) ** -years_in_retirement) / annual_return\n",
    "\n",
    "# Years to save\n",
    "years_to_save = retirement_age - current_age\n",
    "\n",
    "# Calculate the annual savings required\n",
    "annual_savings = pv_needed * annual_return / ((1 + annual_return) ** years_to_save - 1)\n",
    "\n",
    "# Calculate the gross salary needed\n",
    "gross_salary_needed = (current_annual_expenses + annual_savings) / (1 - tax_rate)\n",
    "\n",
    "print(f\"Total retirement savings needed: ${pv_needed:,.2f}\")\n",
    "print(f\"Annual savings required: ${annual_savings:,.2f}\")\n",
    "print(f\"Gross salary needed: ${gross_salary_needed:,.2f}\")\n",
    "\n",
    " \n"
   ]
  },
  {
   "cell_type": "markdown",
   "metadata": {},
   "source": [
    " What salary do you need to retire when you want with the amount that you specified?\n",
    "    \n",
    "I want to retire at the age 60 and I am assuming that I will live till the age 90. I am assuming that I will spend $60,000 a year after retirement. My total retirement savings would be $825,889.87. This number obviously does not reflect have a family and other expenses in my life so it is not super realistic. But this is what I would need to save if I was living on my own and wanted to retire by the age of 60. "
   ]
  }
 ],
 "metadata": {
  "language_info": {
   "name": "python"
  }
 },
 "nbformat": 4,
 "nbformat_minor": 2
}
